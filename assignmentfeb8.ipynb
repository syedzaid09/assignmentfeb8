{
 "cells": [
  {
   "cell_type": "markdown",
   "id": "5f4cc460-0a08-42e6-9441-dee91ee55576",
   "metadata": {},
   "source": [
    "Qus1.. What is Abstraction in OOps? Explain with an example."
   ]
  },
  {
   "cell_type": "markdown",
   "id": "ce7a1937-146a-4cd5-b661-62a2db9d0f0f",
   "metadata": {},
   "source": [
    "Abstraction is one of the most important features of object-oriented programming. it is used to hide the background details or any unnecessary implementation.\n",
    "we can achieve abstraction by incorporating abstract classes and methods."
   ]
  },
  {
   "cell_type": "code",
   "execution_count": 4,
   "id": "7ad18cf5-ac4a-4de2-b658-dc9e7e9c59d8",
   "metadata": {},
   "outputs": [
    {
     "data": {
      "text/plain": [
       "'this will give you a student assignment detailed for data science masters'"
      ]
     },
     "execution_count": 4,
     "metadata": {},
     "output_type": "execute_result"
    }
   ],
   "source": [
    "import abc\n",
    "class pwskills:\n",
    "    @abc.abstractmethod\n",
    "    def student_details(self):\n",
    "        pass\n",
    "    \n",
    "    @abc.abstractmethod\n",
    "    def student_assignment(self):\n",
    "        pass\n",
    "    \n",
    "    @abc.abstractmethod\n",
    "    def student_marks(self):\n",
    "        pass\n",
    "    \n",
    "class student_details(pwskills):\n",
    "    \n",
    "    def students_details(self):\n",
    "        return \"this is a meth for taking students details\"\n",
    "    \n",
    "    def student_assignment(self):\n",
    "        return \"this is a meth for assing details for a particualt student\"\n",
    "    \n",
    "class data_science_masters(pwskills):\n",
    "    \n",
    "    def students_details(self):\n",
    "        return \"this will return a student details for data science masters\"\n",
    "    \n",
    "    def student_assignment(self):\n",
    "        return \"this will give you a student assignment detailed for data science masters\"\n",
    "    \n",
    "dsm=data_science_masters()\n",
    "dsm.students_details()\n",
    "dsm.student_assignment()\n",
    "    "
   ]
  },
  {
   "cell_type": "markdown",
   "id": "968bcdcd-234f-423e-831c-29986bc88c64",
   "metadata": {},
   "source": [
    "Qus2.Differentiate between Abstraction and Encapsulation. Explain with an example"
   ]
  },
  {
   "cell_type": "markdown",
   "id": "09ef05dd-8d9a-4815-8f3b-7097d5d1735c",
   "metadata": {},
   "source": [
    "Abstraction and Encapsulation both are basic object oriented programming (OOP) concepts which allow you to implement real-world objects into programs and codes.\n",
    "\n",
    "Encapsulation is basically binding data members and  member functions into a single unit called Class. \n",
    "Information is hidden inside a capsule for close access.\n",
    "The idea is to protect the data from outside world.\n",
    "It's implemented using protected,private,and package-private access modifiers.\n",
    "\n",
    "\n",
    "Whereas Abstraction is basically to hide implementation complexity and provide ease of access to the users.Basically, abstraction is a programming tool to manage complexity.\n",
    "Information and data is separated from the relevant data.\n",
    "It deals with ideas rather than events.\n",
    "It's implemented using abstract class and interface.\n"
   ]
  },
  {
   "cell_type": "code",
   "execution_count": 5,
   "id": "1223ed93-dfa6-485c-bf67-5ce014b8fd4d",
   "metadata": {},
   "outputs": [
    {
     "data": {
      "text/plain": [
       "2021"
      ]
     },
     "execution_count": 5,
     "metadata": {},
     "output_type": "execute_result"
    }
   ],
   "source": [
    "#encapsulation example\n",
    "class car:\n",
    "    def __init__(self,year,make,model,speed):\n",
    "        self.__year=year\n",
    "        self.__make=make\n",
    "        self.__model=model\n",
    "        self.__speed=0\n",
    "    \n",
    "    def set_speed(self,speed):\n",
    "        self.__speed= 0 if speed <0 else speed\n",
    "        \n",
    "    def get_speed(self):\n",
    "        return self.__speedc\n",
    "\n",
    "c=car(2021,\"toyata\",\"innova\",12)\n",
    "c._car__year"
   ]
  },
  {
   "cell_type": "code",
   "execution_count": 6,
   "id": "350d5ea9-85d4-4da9-a98f-c301f875063e",
   "metadata": {},
   "outputs": [
    {
     "data": {
      "text/plain": [
       "'this will give you a student assignment detailed for data science masters'"
      ]
     },
     "execution_count": 6,
     "metadata": {},
     "output_type": "execute_result"
    }
   ],
   "source": [
    "#abstraction example\n",
    "import abc\n",
    "class pwskills:\n",
    "    @abc.abstractmethod\n",
    "    def student_details(self):\n",
    "        pass\n",
    "    \n",
    "    @abc.abstractmethod\n",
    "    def student_assignment(self):\n",
    "        pass\n",
    "    \n",
    "    @abc.abstractmethod\n",
    "    def student_marks(self):\n",
    "        pass\n",
    "    \n",
    "class student_details(pwskills):\n",
    "    \n",
    "    def students_details(self):\n",
    "        return \"this is a meth for taking students details\"\n",
    "    \n",
    "    def student_assignment(self):\n",
    "        return \"this is a meth for assing details for a particualt student\"\n",
    "    \n",
    "class data_science_masters(pwskills):\n",
    "    \n",
    "    def students_details(self):\n",
    "        return \"this will return a student details for data science masters\"\n",
    "    \n",
    "    def student_assignment(self):\n",
    "        return \"this will give you a student assignment detailed for data science masters\"\n",
    "    \n",
    "dsm=data_science_masters()\n",
    "dsm.students_details()\n",
    "dsm.student_assignment()\n",
    "    "
   ]
  },
  {
   "cell_type": "markdown",
   "id": "a4b76b38-2f7c-40ff-a118-a0c05138140c",
   "metadata": {},
   "source": [
    "Qus3.What is abc module in python? Why is it used?\n"
   ]
  },
  {
   "cell_type": "markdown",
   "id": "b5f2b51b-dc52-440c-937c-3ec80c315199",
   "metadata": {},
   "source": [
    "The 'abc' module in Python library provides the infrastructure for defining custom abstract base classes.\n",
    "\n",
    "'abc' works by marking methods of the base class as abstract. This is done by @absttractmethod decorator.\n",
    "\n",
    "A concrete class which is a sub class of such abstract base class then implements the abstract base by overriding its abstract methods.\n",
    "\n",
    "It is useful while working in large teams and code-bases so that all of the classes need not be remembered and also be provided as library by third parties."
   ]
  },
  {
   "cell_type": "markdown",
   "id": "00fb11b6-2dd2-4a8a-a0b9-6a6c42a98c10",
   "metadata": {},
   "source": [
    "Qus4. How can we achieve data abstraction?"
   ]
  },
  {
   "cell_type": "markdown",
   "id": "d1c36600-df7c-4d9b-a596-b961d3e278a2",
   "metadata": {},
   "source": [
    "Data Abstraction can be achieved through creating abstract classes and inheriting them later .\n",
    "Data Abstraction firstly saves a lot of our time as we do not have to repeat the code that may be the same for all the classes. Moreover, if there are any additional features, they can be easily added, thus improving flexibility. Not to mention, working in large teams becomes easier as one won’t have to remember every function and the basic structure can be inherited without any confusions."
   ]
  },
  {
   "cell_type": "markdown",
   "id": "59e96815-4718-4a5b-98ac-8429a4ec6046",
   "metadata": {},
   "source": [
    "Qus5.Can we create an instance of an abstract class? Explain your answer."
   ]
  },
  {
   "cell_type": "markdown",
   "id": "7342fd72-3ac1-4653-b633-367d99181c50",
   "metadata": {},
   "source": [
    "Abstract classes are not complete, as they may have some methods that are not defined. So we cannot create an instance of an abstract class in Python. If we try to instantiate the abstract class, it raises an error.\n",
    "\n"
   ]
  }
 ],
 "metadata": {
  "kernelspec": {
   "display_name": "Python 3 (ipykernel)",
   "language": "python",
   "name": "python3"
  },
  "language_info": {
   "codemirror_mode": {
    "name": "ipython",
    "version": 3
   },
   "file_extension": ".py",
   "mimetype": "text/x-python",
   "name": "python",
   "nbconvert_exporter": "python",
   "pygments_lexer": "ipython3",
   "version": "3.10.8"
  }
 },
 "nbformat": 4,
 "nbformat_minor": 5
}
